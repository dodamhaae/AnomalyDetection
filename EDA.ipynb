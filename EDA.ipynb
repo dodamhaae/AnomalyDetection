{
  "nbformat": 4,
  "nbformat_minor": 0,
  "metadata": {
    "colab": {
      "name": "EDA.ipynb",
      "provenance": [],
      "collapsed_sections": [],
      "include_colab_link": true
    },
    "kernelspec": {
      "name": "python3",
      "display_name": "Python 3"
    },
    "language_info": {
      "name": "python"
    }
  },
  "cells": [
    {
      "cell_type": "markdown",
      "metadata": {
        "id": "view-in-github",
        "colab_type": "text"
      },
      "source": [
        "<a href=\"https://colab.research.google.com/github/dodamhaee/CV-anomaly-detection-algorithm/blob/main/EDA.ipynb\" target=\"_parent\"><img src=\"https://colab.research.google.com/assets/colab-badge.svg\" alt=\"Open In Colab\"/></a>"
      ]
    },
    {
      "cell_type": "code",
      "source": [
        "import pandas as pd"
      ],
      "metadata": {
        "id": "782xKDKjeNI-"
      },
      "execution_count": 1,
      "outputs": []
    },
    {
      "cell_type": "code",
      "execution_count": 2,
      "metadata": {
        "id": "Ygidqes_bDUY",
        "colab": {
          "base_uri": "https://localhost:8080/"
        },
        "outputId": "b5c6bef5-3ea9-44e1-c040-8d05ab23c7e4"
      },
      "outputs": [
        {
          "output_type": "stream",
          "name": "stdout",
          "text": [
            "Mounted at /content/drive\n"
          ]
        }
      ],
      "source": [
        "from google.colab import drive\n",
        "drive.mount('/content/drive')"
      ]
    },
    {
      "cell_type": "code",
      "source": [
        "%cd drive/MyDrive/Dacon"
      ],
      "metadata": {
        "colab": {
          "base_uri": "https://localhost:8080/"
        },
        "id": "ChJ_RDyFeNQV",
        "outputId": "c6739fc2-0ad9-40c6-f8db-5fceb52c2322"
      },
      "execution_count": 3,
      "outputs": [
        {
          "output_type": "stream",
          "name": "stdout",
          "text": [
            "/content/drive/MyDrive/Dacon\n"
          ]
        }
      ]
    },
    {
      "cell_type": "code",
      "source": [
        "# read csv to dataframe\n",
        "df = pd.read_csv('train_df.csv')\n",
        "df"
      ],
      "metadata": {
        "colab": {
          "base_uri": "https://localhost:8080/",
          "height": 423
        },
        "id": "mJLMR9tOfbYI",
        "outputId": "e708511d-0504-4d51-e48c-bb1f95c7ba71"
      },
      "execution_count": 4,
      "outputs": [
        {
          "output_type": "execute_result",
          "data": {
            "text/plain": [
              "      index  file_name       class state            label\n",
              "0         0  10000.png  transistor  good  transistor-good\n",
              "1         1  10001.png     capsule  good     capsule-good\n",
              "2         2  10002.png  transistor  good  transistor-good\n",
              "3         3  10003.png        wood  good        wood-good\n",
              "4         4  10004.png      bottle  good      bottle-good\n",
              "...     ...        ...         ...   ...              ...\n",
              "4272   4272  14272.png  transistor  good  transistor-good\n",
              "4273   4273  14273.png  transistor  good  transistor-good\n",
              "4274   4274  14274.png        grid  good        grid-good\n",
              "4275   4275  14275.png      zipper  good      zipper-good\n",
              "4276   4276  14276.png       screw  good       screw-good\n",
              "\n",
              "[4277 rows x 5 columns]"
            ],
            "text/html": [
              "\n",
              "  <div id=\"df-72507974-5351-4322-bd56-322936b48ce6\">\n",
              "    <div class=\"colab-df-container\">\n",
              "      <div>\n",
              "<style scoped>\n",
              "    .dataframe tbody tr th:only-of-type {\n",
              "        vertical-align: middle;\n",
              "    }\n",
              "\n",
              "    .dataframe tbody tr th {\n",
              "        vertical-align: top;\n",
              "    }\n",
              "\n",
              "    .dataframe thead th {\n",
              "        text-align: right;\n",
              "    }\n",
              "</style>\n",
              "<table border=\"1\" class=\"dataframe\">\n",
              "  <thead>\n",
              "    <tr style=\"text-align: right;\">\n",
              "      <th></th>\n",
              "      <th>index</th>\n",
              "      <th>file_name</th>\n",
              "      <th>class</th>\n",
              "      <th>state</th>\n",
              "      <th>label</th>\n",
              "    </tr>\n",
              "  </thead>\n",
              "  <tbody>\n",
              "    <tr>\n",
              "      <th>0</th>\n",
              "      <td>0</td>\n",
              "      <td>10000.png</td>\n",
              "      <td>transistor</td>\n",
              "      <td>good</td>\n",
              "      <td>transistor-good</td>\n",
              "    </tr>\n",
              "    <tr>\n",
              "      <th>1</th>\n",
              "      <td>1</td>\n",
              "      <td>10001.png</td>\n",
              "      <td>capsule</td>\n",
              "      <td>good</td>\n",
              "      <td>capsule-good</td>\n",
              "    </tr>\n",
              "    <tr>\n",
              "      <th>2</th>\n",
              "      <td>2</td>\n",
              "      <td>10002.png</td>\n",
              "      <td>transistor</td>\n",
              "      <td>good</td>\n",
              "      <td>transistor-good</td>\n",
              "    </tr>\n",
              "    <tr>\n",
              "      <th>3</th>\n",
              "      <td>3</td>\n",
              "      <td>10003.png</td>\n",
              "      <td>wood</td>\n",
              "      <td>good</td>\n",
              "      <td>wood-good</td>\n",
              "    </tr>\n",
              "    <tr>\n",
              "      <th>4</th>\n",
              "      <td>4</td>\n",
              "      <td>10004.png</td>\n",
              "      <td>bottle</td>\n",
              "      <td>good</td>\n",
              "      <td>bottle-good</td>\n",
              "    </tr>\n",
              "    <tr>\n",
              "      <th>...</th>\n",
              "      <td>...</td>\n",
              "      <td>...</td>\n",
              "      <td>...</td>\n",
              "      <td>...</td>\n",
              "      <td>...</td>\n",
              "    </tr>\n",
              "    <tr>\n",
              "      <th>4272</th>\n",
              "      <td>4272</td>\n",
              "      <td>14272.png</td>\n",
              "      <td>transistor</td>\n",
              "      <td>good</td>\n",
              "      <td>transistor-good</td>\n",
              "    </tr>\n",
              "    <tr>\n",
              "      <th>4273</th>\n",
              "      <td>4273</td>\n",
              "      <td>14273.png</td>\n",
              "      <td>transistor</td>\n",
              "      <td>good</td>\n",
              "      <td>transistor-good</td>\n",
              "    </tr>\n",
              "    <tr>\n",
              "      <th>4274</th>\n",
              "      <td>4274</td>\n",
              "      <td>14274.png</td>\n",
              "      <td>grid</td>\n",
              "      <td>good</td>\n",
              "      <td>grid-good</td>\n",
              "    </tr>\n",
              "    <tr>\n",
              "      <th>4275</th>\n",
              "      <td>4275</td>\n",
              "      <td>14275.png</td>\n",
              "      <td>zipper</td>\n",
              "      <td>good</td>\n",
              "      <td>zipper-good</td>\n",
              "    </tr>\n",
              "    <tr>\n",
              "      <th>4276</th>\n",
              "      <td>4276</td>\n",
              "      <td>14276.png</td>\n",
              "      <td>screw</td>\n",
              "      <td>good</td>\n",
              "      <td>screw-good</td>\n",
              "    </tr>\n",
              "  </tbody>\n",
              "</table>\n",
              "<p>4277 rows × 5 columns</p>\n",
              "</div>\n",
              "      <button class=\"colab-df-convert\" onclick=\"convertToInteractive('df-72507974-5351-4322-bd56-322936b48ce6')\"\n",
              "              title=\"Convert this dataframe to an interactive table.\"\n",
              "              style=\"display:none;\">\n",
              "        \n",
              "  <svg xmlns=\"http://www.w3.org/2000/svg\" height=\"24px\"viewBox=\"0 0 24 24\"\n",
              "       width=\"24px\">\n",
              "    <path d=\"M0 0h24v24H0V0z\" fill=\"none\"/>\n",
              "    <path d=\"M18.56 5.44l.94 2.06.94-2.06 2.06-.94-2.06-.94-.94-2.06-.94 2.06-2.06.94zm-11 1L8.5 8.5l.94-2.06 2.06-.94-2.06-.94L8.5 2.5l-.94 2.06-2.06.94zm10 10l.94 2.06.94-2.06 2.06-.94-2.06-.94-.94-2.06-.94 2.06-2.06.94z\"/><path d=\"M17.41 7.96l-1.37-1.37c-.4-.4-.92-.59-1.43-.59-.52 0-1.04.2-1.43.59L10.3 9.45l-7.72 7.72c-.78.78-.78 2.05 0 2.83L4 21.41c.39.39.9.59 1.41.59.51 0 1.02-.2 1.41-.59l7.78-7.78 2.81-2.81c.8-.78.8-2.07 0-2.86zM5.41 20L4 18.59l7.72-7.72 1.47 1.35L5.41 20z\"/>\n",
              "  </svg>\n",
              "      </button>\n",
              "      \n",
              "  <style>\n",
              "    .colab-df-container {\n",
              "      display:flex;\n",
              "      flex-wrap:wrap;\n",
              "      gap: 12px;\n",
              "    }\n",
              "\n",
              "    .colab-df-convert {\n",
              "      background-color: #E8F0FE;\n",
              "      border: none;\n",
              "      border-radius: 50%;\n",
              "      cursor: pointer;\n",
              "      display: none;\n",
              "      fill: #1967D2;\n",
              "      height: 32px;\n",
              "      padding: 0 0 0 0;\n",
              "      width: 32px;\n",
              "    }\n",
              "\n",
              "    .colab-df-convert:hover {\n",
              "      background-color: #E2EBFA;\n",
              "      box-shadow: 0px 1px 2px rgba(60, 64, 67, 0.3), 0px 1px 3px 1px rgba(60, 64, 67, 0.15);\n",
              "      fill: #174EA6;\n",
              "    }\n",
              "\n",
              "    [theme=dark] .colab-df-convert {\n",
              "      background-color: #3B4455;\n",
              "      fill: #D2E3FC;\n",
              "    }\n",
              "\n",
              "    [theme=dark] .colab-df-convert:hover {\n",
              "      background-color: #434B5C;\n",
              "      box-shadow: 0px 1px 3px 1px rgba(0, 0, 0, 0.15);\n",
              "      filter: drop-shadow(0px 1px 2px rgba(0, 0, 0, 0.3));\n",
              "      fill: #FFFFFF;\n",
              "    }\n",
              "  </style>\n",
              "\n",
              "      <script>\n",
              "        const buttonEl =\n",
              "          document.querySelector('#df-72507974-5351-4322-bd56-322936b48ce6 button.colab-df-convert');\n",
              "        buttonEl.style.display =\n",
              "          google.colab.kernel.accessAllowed ? 'block' : 'none';\n",
              "\n",
              "        async function convertToInteractive(key) {\n",
              "          const element = document.querySelector('#df-72507974-5351-4322-bd56-322936b48ce6');\n",
              "          const dataTable =\n",
              "            await google.colab.kernel.invokeFunction('convertToInteractive',\n",
              "                                                     [key], {});\n",
              "          if (!dataTable) return;\n",
              "\n",
              "          const docLinkHtml = 'Like what you see? Visit the ' +\n",
              "            '<a target=\"_blank\" href=https://colab.research.google.com/notebooks/data_table.ipynb>data table notebook</a>'\n",
              "            + ' to learn more about interactive tables.';\n",
              "          element.innerHTML = '';\n",
              "          dataTable['output_type'] = 'display_data';\n",
              "          await google.colab.output.renderOutput(dataTable, element);\n",
              "          const docLink = document.createElement('div');\n",
              "          docLink.innerHTML = docLinkHtml;\n",
              "          element.appendChild(docLink);\n",
              "        }\n",
              "      </script>\n",
              "    </div>\n",
              "  </div>\n",
              "  "
            ]
          },
          "metadata": {},
          "execution_count": 4
        }
      ]
    },
    {
      "cell_type": "code",
      "source": [
        "# class list\n",
        "print('class 개수 :', len(df['class'].unique()))\n",
        "print(df['class'].unique())"
      ],
      "metadata": {
        "colab": {
          "base_uri": "https://localhost:8080/"
        },
        "id": "eMCNvMDie1ZN",
        "outputId": "5dd79d1b-b88e-41e3-ad42-055cf881fb68"
      },
      "execution_count": 5,
      "outputs": [
        {
          "output_type": "stream",
          "name": "stdout",
          "text": [
            "class 개수 : 15\n",
            "['transistor' 'capsule' 'wood' 'bottle' 'screw' 'cable' 'carpet'\n",
            " 'hazelnut' 'pill' 'metal_nut' 'zipper' 'leather' 'toothbrush' 'tile'\n",
            " 'grid']\n"
          ]
        }
      ]
    },
    {
      "cell_type": "code",
      "source": [
        "# state list\n",
        "print('state 개수 :', len(df['state'].unique()))\n",
        "print(df['state'].unique())"
      ],
      "metadata": {
        "colab": {
          "base_uri": "https://localhost:8080/"
        },
        "id": "B_T56oXqgEu_",
        "outputId": "3d9cff24-7708-4ea3-893f-4623acb4be96"
      },
      "execution_count": 6,
      "outputs": [
        {
          "output_type": "stream",
          "name": "stdout",
          "text": [
            "state 개수 : 49\n",
            "['good' 'bent_wire' 'hole' 'pill_type' 'scratch' 'thread_side'\n",
            " 'fabric_border' 'crack' 'manipulated_front' 'contamination' 'split_teeth'\n",
            " 'combined' 'color' 'thread_top' 'missing_cable' 'squeeze' 'rough' 'poke'\n",
            " 'flip' 'metal_contamination' 'bent_lead' 'fabric_interior' 'fold'\n",
            " 'glue_strip' 'scratch_neck' 'scratch_head' 'cut' 'broken_large'\n",
            " 'broken_small' 'cut_outer_insulation' 'squeezed_teeth' 'defective'\n",
            " 'cut_inner_insulation' 'missing_wire' 'thread' 'broken' 'faulty_imprint'\n",
            " 'glue' 'damaged_case' 'gray_stroke' 'bent' 'print' 'broken_teeth' 'oil'\n",
            " 'misplaced' 'cable_swap' 'poke_insulation' 'cut_lead' 'liquid']\n"
          ]
        }
      ]
    },
    {
      "cell_type": "code",
      "source": [
        "# label list\n",
        "print('label 개수 :', len(df['label'].unique()))\n",
        "print(df['label'].unique())"
      ],
      "metadata": {
        "colab": {
          "base_uri": "https://localhost:8080/"
        },
        "id": "Um11UHjFhTto",
        "outputId": "0e741361-398c-4052-87c7-6853f5269e51"
      },
      "execution_count": 7,
      "outputs": [
        {
          "output_type": "stream",
          "name": "stdout",
          "text": [
            "label 개수 : 88\n",
            "['transistor-good' 'capsule-good' 'wood-good' 'bottle-good' 'screw-good'\n",
            " 'cable-bent_wire' 'carpet-hole' 'hazelnut-good' 'pill-pill_type'\n",
            " 'cable-good' 'metal_nut-scratch' 'pill-good' 'screw-thread_side'\n",
            " 'zipper-fabric_border' 'leather-good' 'pill-scratch' 'toothbrush-good'\n",
            " 'hazelnut-crack' 'screw-manipulated_front' 'zipper-good' 'tile-good'\n",
            " 'carpet-good' 'metal_nut-good' 'bottle-contamination' 'grid-good'\n",
            " 'zipper-split_teeth' 'pill-crack' 'wood-combined' 'pill-color'\n",
            " 'screw-thread_top' 'cable-missing_cable' 'capsule-squeeze' 'zipper-rough'\n",
            " 'capsule-crack' 'capsule-poke' 'metal_nut-flip'\n",
            " 'carpet-metal_contamination' 'metal_nut-color' 'transistor-bent_lead'\n",
            " 'zipper-fabric_interior' 'leather-fold' 'tile-glue_strip'\n",
            " 'screw-scratch_neck' 'screw-scratch_head' 'hazelnut-cut'\n",
            " 'bottle-broken_large' 'bottle-broken_small' 'leather-cut'\n",
            " 'cable-cut_outer_insulation' 'zipper-squeezed_teeth'\n",
            " 'toothbrush-defective' 'cable-cut_inner_insulation' 'pill-contamination'\n",
            " 'cable-missing_wire' 'carpet-thread' 'grid-broken' 'pill-faulty_imprint'\n",
            " 'hazelnut-hole' 'leather-glue' 'leather-poke' 'transistor-damaged_case'\n",
            " 'wood-scratch' 'tile-gray_stroke' 'capsule-faulty_imprint' 'grid-glue'\n",
            " 'zipper-combined' 'carpet-color' 'grid-bent' 'pill-combined'\n",
            " 'hazelnut-print' 'cable-combined' 'capsule-scratch' 'metal_nut-bent'\n",
            " 'zipper-broken_teeth' 'tile-oil' 'transistor-misplaced' 'grid-thread'\n",
            " 'grid-metal_contamination' 'carpet-cut' 'wood-color' 'cable-cable_swap'\n",
            " 'tile-crack' 'leather-color' 'cable-poke_insulation'\n",
            " 'transistor-cut_lead' 'wood-hole' 'tile-rough' 'wood-liquid']\n"
          ]
        }
      ]
    },
    {
      "cell_type": "code",
      "source": [
        "# group by class\n",
        "grouped = df['state'].groupby(df['class'])"
      ],
      "metadata": {
        "id": "NaP7z0nThSnJ"
      },
      "execution_count": 8,
      "outputs": []
    },
    {
      "cell_type": "code",
      "source": [
        "# 각 state의 수\n",
        "count_state = grouped.count().sort_values(ascending=False)\n",
        "count_state"
      ],
      "metadata": {
        "colab": {
          "base_uri": "https://localhost:8080/"
        },
        "id": "mLD2eEGmBNUb",
        "outputId": "dac2f235-a799-4570-99a1-706f77e9e02d"
      },
      "execution_count": 9,
      "outputs": [
        {
          "output_type": "execute_result",
          "data": {
            "text/plain": [
              "class\n",
              "hazelnut      427\n",
              "screw         381\n",
              "pill          340\n",
              "carpet        327\n",
              "zipper        301\n",
              "grid          294\n",
              "leather       293\n",
              "wood          278\n",
              "capsule       275\n",
              "tile          273\n",
              "cable         271\n",
              "metal_nut     268\n",
              "bottle        241\n",
              "transistor    233\n",
              "toothbrush     75\n",
              "Name: state, dtype: int64"
            ]
          },
          "metadata": {},
          "execution_count": 9
        }
      ]
    },
    {
      "cell_type": "code",
      "source": [
        "class_list = df['class'].unique()  # class 목록\n",
        "grouped_state =  grouped.unique()  # state 목록"
      ],
      "metadata": {
        "id": "q1NOe4W_q-u4"
      },
      "execution_count": 10,
      "outputs": []
    },
    {
      "cell_type": "code",
      "source": [
        "# class별 state 목록\n",
        "for idx, state in enumerate(grouped_state):\n",
        "  print(f'''# {idx+1}. {class_list[idx]}\n",
        "  {state}\\n''')"
      ],
      "metadata": {
        "id": "b6-QT8-5o-H8",
        "colab": {
          "base_uri": "https://localhost:8080/"
        },
        "outputId": "81fef836-9a89-459e-f61b-cbf6e2bbbc57"
      },
      "execution_count": 11,
      "outputs": [
        {
          "output_type": "stream",
          "name": "stdout",
          "text": [
            "# 1. transistor\n",
            "  ['good' 'contamination' 'broken_large' 'broken_small']\n",
            "\n",
            "# 2. capsule\n",
            "  ['bent_wire' 'good' 'missing_cable' 'cut_outer_insulation'\n",
            " 'cut_inner_insulation' 'missing_wire' 'combined' 'cable_swap'\n",
            " 'poke_insulation']\n",
            "\n",
            "# 3. wood\n",
            "  ['good' 'squeeze' 'crack' 'poke' 'faulty_imprint' 'scratch']\n",
            "\n",
            "# 4. bottle\n",
            "  ['hole' 'good' 'metal_contamination' 'thread' 'color' 'cut']\n",
            "\n",
            "# 5. screw\n",
            "  ['good' 'broken' 'glue' 'bent' 'thread' 'metal_contamination']\n",
            "\n",
            "# 6. cable\n",
            "  ['good' 'crack' 'cut' 'hole' 'print']\n",
            "\n",
            "# 7. carpet\n",
            "  ['good' 'fold' 'cut' 'glue' 'poke' 'color']\n",
            "\n",
            "# 8. hazelnut\n",
            "  ['scratch' 'good' 'flip' 'color' 'bent']\n",
            "\n",
            "# 9. pill\n",
            "  ['pill_type' 'good' 'scratch' 'crack' 'color' 'contamination'\n",
            " 'faulty_imprint' 'combined']\n",
            "\n",
            "# 10. metal_nut\n",
            "  ['good' 'thread_side' 'manipulated_front' 'thread_top' 'scratch_neck'\n",
            " 'scratch_head']\n",
            "\n",
            "# 11. zipper\n",
            "  ['good' 'glue_strip' 'gray_stroke' 'oil' 'crack' 'rough']\n",
            "\n",
            "# 12. leather\n",
            "  ['good' 'defective']\n",
            "\n",
            "# 13. toothbrush\n",
            "  ['good' 'bent_lead' 'damaged_case' 'misplaced' 'cut_lead']\n",
            "\n",
            "# 14. tile\n",
            "  ['good' 'combined' 'scratch' 'color' 'hole' 'liquid']\n",
            "\n",
            "# 15. grid\n",
            "  ['fabric_border' 'good' 'split_teeth' 'rough' 'fabric_interior'\n",
            " 'squeezed_teeth' 'combined' 'broken_teeth']\n",
            "\n"
          ]
        }
      ]
    }
  ]
}