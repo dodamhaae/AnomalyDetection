{
  "nbformat": 4,
  "nbformat_minor": 0,
  "metadata": {
    "colab": {
      "name": "classify_img.ipynb",
      "provenance": [],
      "collapsed_sections": [],
      "toc_visible": true,
      "authorship_tag": "ABX9TyPf0euevOfrKpqdFVb0y8T9",
      "include_colab_link": true
    },
    "kernelspec": {
      "name": "python3",
      "display_name": "Python 3"
    },
    "language_info": {
      "name": "python"
    }
  },
  "cells": [
    {
      "cell_type": "markdown",
      "metadata": {
        "id": "view-in-github",
        "colab_type": "text"
      },
      "source": [
        "<a href=\"https://colab.research.google.com/github/dodamhaee/CV-anomaly-detection-algorithm/blob/main/classify_img.ipynb\" target=\"_parent\"><img src=\"https://colab.research.google.com/assets/colab-badge.svg\" alt=\"Open In Colab\"/></a>"
      ]
    },
    {
      "cell_type": "code",
      "source": [
        "import os\n",
        "import shutil\n",
        "import pandas as pd"
      ],
      "metadata": {
        "id": "fIFhI5L3QIrw"
      },
      "execution_count": 5,
      "outputs": []
    },
    {
      "cell_type": "code",
      "source": [
        "from google.colab import drive\n",
        "drive.mount('/content/drive')"
      ],
      "metadata": {
        "colab": {
          "base_uri": "https://localhost:8080/"
        },
        "id": "aC2lCIyMOPpz",
        "outputId": "d8982cfb-a758-4c7b-8150-7359bc6ea143"
      },
      "execution_count": 6,
      "outputs": [
        {
          "output_type": "stream",
          "name": "stdout",
          "text": [
            "Mounted at /content/drive\n"
          ]
        }
      ]
    },
    {
      "cell_type": "code",
      "source": [
        "%cd drive/MyDrive/Dacon"
      ],
      "metadata": {
        "colab": {
          "base_uri": "https://localhost:8080/"
        },
        "id": "JlcC3L5fOPmL",
        "outputId": "4b576bb9-40f1-4b7f-de9c-56041045f8da"
      },
      "execution_count": 7,
      "outputs": [
        {
          "output_type": "stream",
          "name": "stdout",
          "text": [
            "/content/drive/MyDrive/Dacon\n"
          ]
        }
      ]
    },
    {
      "cell_type": "code",
      "source": [
        "data = pd.read_csv('train_df.csv')"
      ],
      "metadata": {
        "id": "85gb10lAOPiG"
      },
      "execution_count": 163,
      "outputs": []
    },
    {
      "cell_type": "markdown",
      "source": [
        "\n",
        "\n",
        "---\n",
        "\n",
        "\n",
        "## **각 class에 해당하는 state의 csv 생성**\n",
        "\n",
        "\n",
        "---\n",
        "\n"
      ],
      "metadata": {
        "id": "_dXLvNlD2mvg"
      }
    },
    {
      "cell_type": "code",
      "source": [
        "State = data.copy()\n",
        "State = data[['class', 'state', 'file_name']]\n",
        "State"
      ],
      "metadata": {
        "colab": {
          "base_uri": "https://localhost:8080/",
          "height": 423
        },
        "id": "txcaNF-Q2Cu7",
        "outputId": "632d3f31-d53d-4123-a586-c215e046dbed"
      },
      "execution_count": 164,
      "outputs": [
        {
          "output_type": "execute_result",
          "data": {
            "text/plain": [
              "           class state  file_name\n",
              "0     transistor  good  10000.png\n",
              "1        capsule  good  10001.png\n",
              "2     transistor  good  10002.png\n",
              "3           wood  good  10003.png\n",
              "4         bottle  good  10004.png\n",
              "...          ...   ...        ...\n",
              "4272  transistor  good  14272.png\n",
              "4273  transistor  good  14273.png\n",
              "4274        grid  good  14274.png\n",
              "4275      zipper  good  14275.png\n",
              "4276       screw  good  14276.png\n",
              "\n",
              "[4277 rows x 3 columns]"
            ],
            "text/html": [
              "\n",
              "  <div id=\"df-e4d28861-f167-4df9-93a9-be65a98350d6\">\n",
              "    <div class=\"colab-df-container\">\n",
              "      <div>\n",
              "<style scoped>\n",
              "    .dataframe tbody tr th:only-of-type {\n",
              "        vertical-align: middle;\n",
              "    }\n",
              "\n",
              "    .dataframe tbody tr th {\n",
              "        vertical-align: top;\n",
              "    }\n",
              "\n",
              "    .dataframe thead th {\n",
              "        text-align: right;\n",
              "    }\n",
              "</style>\n",
              "<table border=\"1\" class=\"dataframe\">\n",
              "  <thead>\n",
              "    <tr style=\"text-align: right;\">\n",
              "      <th></th>\n",
              "      <th>class</th>\n",
              "      <th>state</th>\n",
              "      <th>file_name</th>\n",
              "    </tr>\n",
              "  </thead>\n",
              "  <tbody>\n",
              "    <tr>\n",
              "      <th>0</th>\n",
              "      <td>transistor</td>\n",
              "      <td>good</td>\n",
              "      <td>10000.png</td>\n",
              "    </tr>\n",
              "    <tr>\n",
              "      <th>1</th>\n",
              "      <td>capsule</td>\n",
              "      <td>good</td>\n",
              "      <td>10001.png</td>\n",
              "    </tr>\n",
              "    <tr>\n",
              "      <th>2</th>\n",
              "      <td>transistor</td>\n",
              "      <td>good</td>\n",
              "      <td>10002.png</td>\n",
              "    </tr>\n",
              "    <tr>\n",
              "      <th>3</th>\n",
              "      <td>wood</td>\n",
              "      <td>good</td>\n",
              "      <td>10003.png</td>\n",
              "    </tr>\n",
              "    <tr>\n",
              "      <th>4</th>\n",
              "      <td>bottle</td>\n",
              "      <td>good</td>\n",
              "      <td>10004.png</td>\n",
              "    </tr>\n",
              "    <tr>\n",
              "      <th>...</th>\n",
              "      <td>...</td>\n",
              "      <td>...</td>\n",
              "      <td>...</td>\n",
              "    </tr>\n",
              "    <tr>\n",
              "      <th>4272</th>\n",
              "      <td>transistor</td>\n",
              "      <td>good</td>\n",
              "      <td>14272.png</td>\n",
              "    </tr>\n",
              "    <tr>\n",
              "      <th>4273</th>\n",
              "      <td>transistor</td>\n",
              "      <td>good</td>\n",
              "      <td>14273.png</td>\n",
              "    </tr>\n",
              "    <tr>\n",
              "      <th>4274</th>\n",
              "      <td>grid</td>\n",
              "      <td>good</td>\n",
              "      <td>14274.png</td>\n",
              "    </tr>\n",
              "    <tr>\n",
              "      <th>4275</th>\n",
              "      <td>zipper</td>\n",
              "      <td>good</td>\n",
              "      <td>14275.png</td>\n",
              "    </tr>\n",
              "    <tr>\n",
              "      <th>4276</th>\n",
              "      <td>screw</td>\n",
              "      <td>good</td>\n",
              "      <td>14276.png</td>\n",
              "    </tr>\n",
              "  </tbody>\n",
              "</table>\n",
              "<p>4277 rows × 3 columns</p>\n",
              "</div>\n",
              "      <button class=\"colab-df-convert\" onclick=\"convertToInteractive('df-e4d28861-f167-4df9-93a9-be65a98350d6')\"\n",
              "              title=\"Convert this dataframe to an interactive table.\"\n",
              "              style=\"display:none;\">\n",
              "        \n",
              "  <svg xmlns=\"http://www.w3.org/2000/svg\" height=\"24px\"viewBox=\"0 0 24 24\"\n",
              "       width=\"24px\">\n",
              "    <path d=\"M0 0h24v24H0V0z\" fill=\"none\"/>\n",
              "    <path d=\"M18.56 5.44l.94 2.06.94-2.06 2.06-.94-2.06-.94-.94-2.06-.94 2.06-2.06.94zm-11 1L8.5 8.5l.94-2.06 2.06-.94-2.06-.94L8.5 2.5l-.94 2.06-2.06.94zm10 10l.94 2.06.94-2.06 2.06-.94-2.06-.94-.94-2.06-.94 2.06-2.06.94z\"/><path d=\"M17.41 7.96l-1.37-1.37c-.4-.4-.92-.59-1.43-.59-.52 0-1.04.2-1.43.59L10.3 9.45l-7.72 7.72c-.78.78-.78 2.05 0 2.83L4 21.41c.39.39.9.59 1.41.59.51 0 1.02-.2 1.41-.59l7.78-7.78 2.81-2.81c.8-.78.8-2.07 0-2.86zM5.41 20L4 18.59l7.72-7.72 1.47 1.35L5.41 20z\"/>\n",
              "  </svg>\n",
              "      </button>\n",
              "      \n",
              "  <style>\n",
              "    .colab-df-container {\n",
              "      display:flex;\n",
              "      flex-wrap:wrap;\n",
              "      gap: 12px;\n",
              "    }\n",
              "\n",
              "    .colab-df-convert {\n",
              "      background-color: #E8F0FE;\n",
              "      border: none;\n",
              "      border-radius: 50%;\n",
              "      cursor: pointer;\n",
              "      display: none;\n",
              "      fill: #1967D2;\n",
              "      height: 32px;\n",
              "      padding: 0 0 0 0;\n",
              "      width: 32px;\n",
              "    }\n",
              "\n",
              "    .colab-df-convert:hover {\n",
              "      background-color: #E2EBFA;\n",
              "      box-shadow: 0px 1px 2px rgba(60, 64, 67, 0.3), 0px 1px 3px 1px rgba(60, 64, 67, 0.15);\n",
              "      fill: #174EA6;\n",
              "    }\n",
              "\n",
              "    [theme=dark] .colab-df-convert {\n",
              "      background-color: #3B4455;\n",
              "      fill: #D2E3FC;\n",
              "    }\n",
              "\n",
              "    [theme=dark] .colab-df-convert:hover {\n",
              "      background-color: #434B5C;\n",
              "      box-shadow: 0px 1px 3px 1px rgba(0, 0, 0, 0.15);\n",
              "      filter: drop-shadow(0px 1px 2px rgba(0, 0, 0, 0.3));\n",
              "      fill: #FFFFFF;\n",
              "    }\n",
              "  </style>\n",
              "\n",
              "      <script>\n",
              "        const buttonEl =\n",
              "          document.querySelector('#df-e4d28861-f167-4df9-93a9-be65a98350d6 button.colab-df-convert');\n",
              "        buttonEl.style.display =\n",
              "          google.colab.kernel.accessAllowed ? 'block' : 'none';\n",
              "\n",
              "        async function convertToInteractive(key) {\n",
              "          const element = document.querySelector('#df-e4d28861-f167-4df9-93a9-be65a98350d6');\n",
              "          const dataTable =\n",
              "            await google.colab.kernel.invokeFunction('convertToInteractive',\n",
              "                                                     [key], {});\n",
              "          if (!dataTable) return;\n",
              "\n",
              "          const docLinkHtml = 'Like what you see? Visit the ' +\n",
              "            '<a target=\"_blank\" href=https://colab.research.google.com/notebooks/data_table.ipynb>data table notebook</a>'\n",
              "            + ' to learn more about interactive tables.';\n",
              "          element.innerHTML = '';\n",
              "          dataTable['output_type'] = 'display_data';\n",
              "          await google.colab.output.renderOutput(dataTable, element);\n",
              "          const docLink = document.createElement('div');\n",
              "          docLink.innerHTML = docLinkHtml;\n",
              "          element.appendChild(docLink);\n",
              "        }\n",
              "      </script>\n",
              "    </div>\n",
              "  </div>\n",
              "  "
            ]
          },
          "metadata": {},
          "execution_count": 164
        }
      ]
    },
    {
      "cell_type": "code",
      "source": [
        "# State.to_csv('state.csv', index=False)"
      ],
      "metadata": {
        "id": "5767dNEI3r--"
      },
      "execution_count": null,
      "outputs": []
    },
    {
      "cell_type": "markdown",
      "source": [
        "\n",
        "\n",
        "---\n",
        "\n",
        "\n",
        "## **각 class에 해당하는 img 분류**\n",
        "\n",
        "\n",
        "---\n",
        "\n"
      ],
      "metadata": {
        "id": "dnQrt3AsqIoh"
      }
    },
    {
      "cell_type": "code",
      "source": [
        "df = data[['class', 'file_name']].sort_values(['class', 'file_name'])\n",
        "df"
      ],
      "metadata": {
        "id": "INhIPYLpb13k",
        "colab": {
          "base_uri": "https://localhost:8080/",
          "height": 423
        },
        "outputId": "3ee62508-71bf-49ac-e4e0-e190beb51db9"
      },
      "execution_count": 168,
      "outputs": [
        {
          "output_type": "execute_result",
          "data": {
            "text/plain": [
              "       class  file_name\n",
              "4     bottle  10004.png\n",
              "26    bottle  10026.png\n",
              "53    bottle  10053.png\n",
              "58    bottle  10058.png\n",
              "60    bottle  10060.png\n",
              "...      ...        ...\n",
              "4240  zipper  14240.png\n",
              "4242  zipper  14242.png\n",
              "4243  zipper  14243.png\n",
              "4244  zipper  14244.png\n",
              "4275  zipper  14275.png\n",
              "\n",
              "[4277 rows x 2 columns]"
            ],
            "text/html": [
              "\n",
              "  <div id=\"df-e4948f1e-0005-411a-85e2-1b5be2737834\">\n",
              "    <div class=\"colab-df-container\">\n",
              "      <div>\n",
              "<style scoped>\n",
              "    .dataframe tbody tr th:only-of-type {\n",
              "        vertical-align: middle;\n",
              "    }\n",
              "\n",
              "    .dataframe tbody tr th {\n",
              "        vertical-align: top;\n",
              "    }\n",
              "\n",
              "    .dataframe thead th {\n",
              "        text-align: right;\n",
              "    }\n",
              "</style>\n",
              "<table border=\"1\" class=\"dataframe\">\n",
              "  <thead>\n",
              "    <tr style=\"text-align: right;\">\n",
              "      <th></th>\n",
              "      <th>class</th>\n",
              "      <th>file_name</th>\n",
              "    </tr>\n",
              "  </thead>\n",
              "  <tbody>\n",
              "    <tr>\n",
              "      <th>4</th>\n",
              "      <td>bottle</td>\n",
              "      <td>10004.png</td>\n",
              "    </tr>\n",
              "    <tr>\n",
              "      <th>26</th>\n",
              "      <td>bottle</td>\n",
              "      <td>10026.png</td>\n",
              "    </tr>\n",
              "    <tr>\n",
              "      <th>53</th>\n",
              "      <td>bottle</td>\n",
              "      <td>10053.png</td>\n",
              "    </tr>\n",
              "    <tr>\n",
              "      <th>58</th>\n",
              "      <td>bottle</td>\n",
              "      <td>10058.png</td>\n",
              "    </tr>\n",
              "    <tr>\n",
              "      <th>60</th>\n",
              "      <td>bottle</td>\n",
              "      <td>10060.png</td>\n",
              "    </tr>\n",
              "    <tr>\n",
              "      <th>...</th>\n",
              "      <td>...</td>\n",
              "      <td>...</td>\n",
              "    </tr>\n",
              "    <tr>\n",
              "      <th>4240</th>\n",
              "      <td>zipper</td>\n",
              "      <td>14240.png</td>\n",
              "    </tr>\n",
              "    <tr>\n",
              "      <th>4242</th>\n",
              "      <td>zipper</td>\n",
              "      <td>14242.png</td>\n",
              "    </tr>\n",
              "    <tr>\n",
              "      <th>4243</th>\n",
              "      <td>zipper</td>\n",
              "      <td>14243.png</td>\n",
              "    </tr>\n",
              "    <tr>\n",
              "      <th>4244</th>\n",
              "      <td>zipper</td>\n",
              "      <td>14244.png</td>\n",
              "    </tr>\n",
              "    <tr>\n",
              "      <th>4275</th>\n",
              "      <td>zipper</td>\n",
              "      <td>14275.png</td>\n",
              "    </tr>\n",
              "  </tbody>\n",
              "</table>\n",
              "<p>4277 rows × 2 columns</p>\n",
              "</div>\n",
              "      <button class=\"colab-df-convert\" onclick=\"convertToInteractive('df-e4948f1e-0005-411a-85e2-1b5be2737834')\"\n",
              "              title=\"Convert this dataframe to an interactive table.\"\n",
              "              style=\"display:none;\">\n",
              "        \n",
              "  <svg xmlns=\"http://www.w3.org/2000/svg\" height=\"24px\"viewBox=\"0 0 24 24\"\n",
              "       width=\"24px\">\n",
              "    <path d=\"M0 0h24v24H0V0z\" fill=\"none\"/>\n",
              "    <path d=\"M18.56 5.44l.94 2.06.94-2.06 2.06-.94-2.06-.94-.94-2.06-.94 2.06-2.06.94zm-11 1L8.5 8.5l.94-2.06 2.06-.94-2.06-.94L8.5 2.5l-.94 2.06-2.06.94zm10 10l.94 2.06.94-2.06 2.06-.94-2.06-.94-.94-2.06-.94 2.06-2.06.94z\"/><path d=\"M17.41 7.96l-1.37-1.37c-.4-.4-.92-.59-1.43-.59-.52 0-1.04.2-1.43.59L10.3 9.45l-7.72 7.72c-.78.78-.78 2.05 0 2.83L4 21.41c.39.39.9.59 1.41.59.51 0 1.02-.2 1.41-.59l7.78-7.78 2.81-2.81c.8-.78.8-2.07 0-2.86zM5.41 20L4 18.59l7.72-7.72 1.47 1.35L5.41 20z\"/>\n",
              "  </svg>\n",
              "      </button>\n",
              "      \n",
              "  <style>\n",
              "    .colab-df-container {\n",
              "      display:flex;\n",
              "      flex-wrap:wrap;\n",
              "      gap: 12px;\n",
              "    }\n",
              "\n",
              "    .colab-df-convert {\n",
              "      background-color: #E8F0FE;\n",
              "      border: none;\n",
              "      border-radius: 50%;\n",
              "      cursor: pointer;\n",
              "      display: none;\n",
              "      fill: #1967D2;\n",
              "      height: 32px;\n",
              "      padding: 0 0 0 0;\n",
              "      width: 32px;\n",
              "    }\n",
              "\n",
              "    .colab-df-convert:hover {\n",
              "      background-color: #E2EBFA;\n",
              "      box-shadow: 0px 1px 2px rgba(60, 64, 67, 0.3), 0px 1px 3px 1px rgba(60, 64, 67, 0.15);\n",
              "      fill: #174EA6;\n",
              "    }\n",
              "\n",
              "    [theme=dark] .colab-df-convert {\n",
              "      background-color: #3B4455;\n",
              "      fill: #D2E3FC;\n",
              "    }\n",
              "\n",
              "    [theme=dark] .colab-df-convert:hover {\n",
              "      background-color: #434B5C;\n",
              "      box-shadow: 0px 1px 3px 1px rgba(0, 0, 0, 0.15);\n",
              "      filter: drop-shadow(0px 1px 2px rgba(0, 0, 0, 0.3));\n",
              "      fill: #FFFFFF;\n",
              "    }\n",
              "  </style>\n",
              "\n",
              "      <script>\n",
              "        const buttonEl =\n",
              "          document.querySelector('#df-e4948f1e-0005-411a-85e2-1b5be2737834 button.colab-df-convert');\n",
              "        buttonEl.style.display =\n",
              "          google.colab.kernel.accessAllowed ? 'block' : 'none';\n",
              "\n",
              "        async function convertToInteractive(key) {\n",
              "          const element = document.querySelector('#df-e4948f1e-0005-411a-85e2-1b5be2737834');\n",
              "          const dataTable =\n",
              "            await google.colab.kernel.invokeFunction('convertToInteractive',\n",
              "                                                     [key], {});\n",
              "          if (!dataTable) return;\n",
              "\n",
              "          const docLinkHtml = 'Like what you see? Visit the ' +\n",
              "            '<a target=\"_blank\" href=https://colab.research.google.com/notebooks/data_table.ipynb>data table notebook</a>'\n",
              "            + ' to learn more about interactive tables.';\n",
              "          element.innerHTML = '';\n",
              "          dataTable['output_type'] = 'display_data';\n",
              "          await google.colab.output.renderOutput(dataTable, element);\n",
              "          const docLink = document.createElement('div');\n",
              "          docLink.innerHTML = docLinkHtml;\n",
              "          element.appendChild(docLink);\n",
              "        }\n",
              "      </script>\n",
              "    </div>\n",
              "  </div>\n",
              "  "
            ]
          },
          "metadata": {},
          "execution_count": 168
        }
      ]
    },
    {
      "cell_type": "code",
      "source": [
        "bottle = df.loc[df['class'] == 'bottle', ['file_name']]['file_name'].values\n",
        "cable = df.loc[df['class'] == 'cable', ['file_name']]['file_name'].values\n",
        "capsule = df.loc[df['class'] == 'capsule', ['file_name']]['file_name'].values\n",
        "carpet = df.loc[df['class'] == 'carpet', ['file_name']]['file_name'].values\n",
        "grid = df.loc[df['class'] == 'grid', ['file_name']]['file_name'].values\n",
        "hazelnut = df.loc[df['class'] == 'hazelnut', ['file_name']]['file_name'].values\n",
        "leather = df.loc[df['class'] == 'leather', ['file_name']]['file_name'].values\n",
        "metalNut = df.loc[df['class']=='metal_nut', ['file_name']]['file_name'].values\n",
        "pill = df.loc[df['class']=='pill', ['file_name']]['file_name'].values\n",
        "screw = df.loc[df['class']=='screw', ['file_name']]['file_name'].values\n",
        "tile = df.loc[df['class']=='tile', ['file_name']]['file_name'].values\n",
        "toothbrush = df.loc[df['class']=='toothbrush', ['file_name']]['file_name'].values\n",
        "transistor = df.loc[df['class']=='transistor', ['file_name']]['file_name'].values\n",
        "wood = df.loc[df['class']=='wood', ['file_name']]['file_name'].values\n",
        "zipper = df.loc[df['class']=='zipper', ['file_name']]['file_name'].values"
      ],
      "metadata": {
        "id": "S6RXbPWYMwWu"
      },
      "execution_count": 182,
      "outputs": []
    },
    {
      "cell_type": "code",
      "source": [
        "path = './train/'\n",
        "fileList = os.listdir(path)\n",
        "\n",
        "fileList.sort()\n",
        "print('train datasets :', len(fileList))"
      ],
      "metadata": {
        "id": "GYku2QXpr4E0"
      },
      "execution_count": null,
      "outputs": []
    },
    {
      "cell_type": "code",
      "source": [
        "classList = [bottle, cable, capsule, carpet, grid, hazelnut, leather, metalNut, \n",
        "    pill, screw, tile, toothbrush, transistor, wood, zipper]\n",
        "for i in fileList:\n",
        "  idx=0\n",
        "  for j in classList:\n",
        "    if i<j: continue \n",
        "    if i in j:\n",
        "      print(i)\n",
        "      shutil.move(path + i, './classes/' + classList[idx])\n",
        "      idx+=1"
      ],
      "metadata": {
        "id": "6XIszEf6V28B"
      },
      "execution_count": null,
      "outputs": []
    },
    {
      "cell_type": "markdown",
      "source": [
        "\n",
        "\n",
        "---\n",
        "\n",
        "\n",
        "## **각 state에 해당하는 img 분류**\n",
        "\n",
        "\n",
        "---\n",
        "\n"
      ],
      "metadata": {
        "id": "OFC2xBNQDObE"
      }
    },
    {
      "cell_type": "code",
      "source": [
        "State"
      ],
      "metadata": {
        "colab": {
          "base_uri": "https://localhost:8080/",
          "height": 423
        },
        "id": "Na3M0acoDEq3",
        "outputId": "369d36c7-957f-417a-eda0-49d42843bd05"
      },
      "execution_count": null,
      "outputs": [
        {
          "output_type": "execute_result",
          "data": {
            "text/plain": [
              "       class           state  file_name\n",
              "204   bottle    broken_large  10204.png\n",
              "260   bottle    broken_large  10260.png\n",
              "712   bottle    broken_large  10712.png\n",
              "839   bottle    broken_large  10839.png\n",
              "912   bottle    broken_large  10912.png\n",
              "...      ...             ...        ...\n",
              "1496  zipper  squeezed_teeth  11496.png\n",
              "1700  zipper  squeezed_teeth  11700.png\n",
              "3187  zipper  squeezed_teeth  13187.png\n",
              "3647  zipper  squeezed_teeth  13647.png\n",
              "3731  zipper  squeezed_teeth  13731.png\n",
              "\n",
              "[4277 rows x 3 columns]"
            ],
            "text/html": [
              "\n",
              "  <div id=\"df-dda12fea-7613-4a4d-ab76-b1211de9b8c9\">\n",
              "    <div class=\"colab-df-container\">\n",
              "      <div>\n",
              "<style scoped>\n",
              "    .dataframe tbody tr th:only-of-type {\n",
              "        vertical-align: middle;\n",
              "    }\n",
              "\n",
              "    .dataframe tbody tr th {\n",
              "        vertical-align: top;\n",
              "    }\n",
              "\n",
              "    .dataframe thead th {\n",
              "        text-align: right;\n",
              "    }\n",
              "</style>\n",
              "<table border=\"1\" class=\"dataframe\">\n",
              "  <thead>\n",
              "    <tr style=\"text-align: right;\">\n",
              "      <th></th>\n",
              "      <th>class</th>\n",
              "      <th>state</th>\n",
              "      <th>file_name</th>\n",
              "    </tr>\n",
              "  </thead>\n",
              "  <tbody>\n",
              "    <tr>\n",
              "      <th>204</th>\n",
              "      <td>bottle</td>\n",
              "      <td>broken_large</td>\n",
              "      <td>10204.png</td>\n",
              "    </tr>\n",
              "    <tr>\n",
              "      <th>260</th>\n",
              "      <td>bottle</td>\n",
              "      <td>broken_large</td>\n",
              "      <td>10260.png</td>\n",
              "    </tr>\n",
              "    <tr>\n",
              "      <th>712</th>\n",
              "      <td>bottle</td>\n",
              "      <td>broken_large</td>\n",
              "      <td>10712.png</td>\n",
              "    </tr>\n",
              "    <tr>\n",
              "      <th>839</th>\n",
              "      <td>bottle</td>\n",
              "      <td>broken_large</td>\n",
              "      <td>10839.png</td>\n",
              "    </tr>\n",
              "    <tr>\n",
              "      <th>912</th>\n",
              "      <td>bottle</td>\n",
              "      <td>broken_large</td>\n",
              "      <td>10912.png</td>\n",
              "    </tr>\n",
              "    <tr>\n",
              "      <th>...</th>\n",
              "      <td>...</td>\n",
              "      <td>...</td>\n",
              "      <td>...</td>\n",
              "    </tr>\n",
              "    <tr>\n",
              "      <th>1496</th>\n",
              "      <td>zipper</td>\n",
              "      <td>squeezed_teeth</td>\n",
              "      <td>11496.png</td>\n",
              "    </tr>\n",
              "    <tr>\n",
              "      <th>1700</th>\n",
              "      <td>zipper</td>\n",
              "      <td>squeezed_teeth</td>\n",
              "      <td>11700.png</td>\n",
              "    </tr>\n",
              "    <tr>\n",
              "      <th>3187</th>\n",
              "      <td>zipper</td>\n",
              "      <td>squeezed_teeth</td>\n",
              "      <td>13187.png</td>\n",
              "    </tr>\n",
              "    <tr>\n",
              "      <th>3647</th>\n",
              "      <td>zipper</td>\n",
              "      <td>squeezed_teeth</td>\n",
              "      <td>13647.png</td>\n",
              "    </tr>\n",
              "    <tr>\n",
              "      <th>3731</th>\n",
              "      <td>zipper</td>\n",
              "      <td>squeezed_teeth</td>\n",
              "      <td>13731.png</td>\n",
              "    </tr>\n",
              "  </tbody>\n",
              "</table>\n",
              "<p>4277 rows × 3 columns</p>\n",
              "</div>\n",
              "      <button class=\"colab-df-convert\" onclick=\"convertToInteractive('df-dda12fea-7613-4a4d-ab76-b1211de9b8c9')\"\n",
              "              title=\"Convert this dataframe to an interactive table.\"\n",
              "              style=\"display:none;\">\n",
              "        \n",
              "  <svg xmlns=\"http://www.w3.org/2000/svg\" height=\"24px\"viewBox=\"0 0 24 24\"\n",
              "       width=\"24px\">\n",
              "    <path d=\"M0 0h24v24H0V0z\" fill=\"none\"/>\n",
              "    <path d=\"M18.56 5.44l.94 2.06.94-2.06 2.06-.94-2.06-.94-.94-2.06-.94 2.06-2.06.94zm-11 1L8.5 8.5l.94-2.06 2.06-.94-2.06-.94L8.5 2.5l-.94 2.06-2.06.94zm10 10l.94 2.06.94-2.06 2.06-.94-2.06-.94-.94-2.06-.94 2.06-2.06.94z\"/><path d=\"M17.41 7.96l-1.37-1.37c-.4-.4-.92-.59-1.43-.59-.52 0-1.04.2-1.43.59L10.3 9.45l-7.72 7.72c-.78.78-.78 2.05 0 2.83L4 21.41c.39.39.9.59 1.41.59.51 0 1.02-.2 1.41-.59l7.78-7.78 2.81-2.81c.8-.78.8-2.07 0-2.86zM5.41 20L4 18.59l7.72-7.72 1.47 1.35L5.41 20z\"/>\n",
              "  </svg>\n",
              "      </button>\n",
              "      \n",
              "  <style>\n",
              "    .colab-df-container {\n",
              "      display:flex;\n",
              "      flex-wrap:wrap;\n",
              "      gap: 12px;\n",
              "    }\n",
              "\n",
              "    .colab-df-convert {\n",
              "      background-color: #E8F0FE;\n",
              "      border: none;\n",
              "      border-radius: 50%;\n",
              "      cursor: pointer;\n",
              "      display: none;\n",
              "      fill: #1967D2;\n",
              "      height: 32px;\n",
              "      padding: 0 0 0 0;\n",
              "      width: 32px;\n",
              "    }\n",
              "\n",
              "    .colab-df-convert:hover {\n",
              "      background-color: #E2EBFA;\n",
              "      box-shadow: 0px 1px 2px rgba(60, 64, 67, 0.3), 0px 1px 3px 1px rgba(60, 64, 67, 0.15);\n",
              "      fill: #174EA6;\n",
              "    }\n",
              "\n",
              "    [theme=dark] .colab-df-convert {\n",
              "      background-color: #3B4455;\n",
              "      fill: #D2E3FC;\n",
              "    }\n",
              "\n",
              "    [theme=dark] .colab-df-convert:hover {\n",
              "      background-color: #434B5C;\n",
              "      box-shadow: 0px 1px 3px 1px rgba(0, 0, 0, 0.15);\n",
              "      filter: drop-shadow(0px 1px 2px rgba(0, 0, 0, 0.3));\n",
              "      fill: #FFFFFF;\n",
              "    }\n",
              "  </style>\n",
              "\n",
              "      <script>\n",
              "        const buttonEl =\n",
              "          document.querySelector('#df-dda12fea-7613-4a4d-ab76-b1211de9b8c9 button.colab-df-convert');\n",
              "        buttonEl.style.display =\n",
              "          google.colab.kernel.accessAllowed ? 'block' : 'none';\n",
              "\n",
              "        async function convertToInteractive(key) {\n",
              "          const element = document.querySelector('#df-dda12fea-7613-4a4d-ab76-b1211de9b8c9');\n",
              "          const dataTable =\n",
              "            await google.colab.kernel.invokeFunction('convertToInteractive',\n",
              "                                                     [key], {});\n",
              "          if (!dataTable) return;\n",
              "\n",
              "          const docLinkHtml = 'Like what you see? Visit the ' +\n",
              "            '<a target=\"_blank\" href=https://colab.research.google.com/notebooks/data_table.ipynb>data table notebook</a>'\n",
              "            + ' to learn more about interactive tables.';\n",
              "          element.innerHTML = '';\n",
              "          dataTable['output_type'] = 'display_data';\n",
              "          await google.colab.output.renderOutput(dataTable, element);\n",
              "          const docLink = document.createElement('div');\n",
              "          docLink.innerHTML = docLinkHtml;\n",
              "          element.appendChild(docLink);\n",
              "        }\n",
              "      </script>\n",
              "    </div>\n",
              "  </div>\n",
              "  "
            ]
          },
          "metadata": {},
          "execution_count": 8
        }
      ]
    },
    {
      "cell_type": "code",
      "source": [
        "grouped = State.groupby(State['class'])['state'].unique()\n",
        "grouped"
      ],
      "metadata": {
        "colab": {
          "base_uri": "https://localhost:8080/"
        },
        "id": "tXh1SHcPDJ9F",
        "outputId": "b6230a3d-f109-473a-d8c1-2e207ba03cc9"
      },
      "execution_count": 128,
      "outputs": [
        {
          "output_type": "execute_result",
          "data": {
            "text/plain": [
              "class\n",
              "bottle        [broken_large, broken_small, contamination, good]\n",
              "cable         [bent_wire, cable_swap, combined, cut_inner_in...\n",
              "capsule       [crack, faulty_imprint, good, poke, scratch, s...\n",
              "carpet        [color, cut, good, hole, metal_contamination, ...\n",
              "grid          [bent, broken, glue, good, metal_contamination...\n",
              "hazelnut                        [crack, cut, good, hole, print]\n",
              "leather                    [color, cut, fold, glue, good, poke]\n",
              "metal_nut                    [bent, color, flip, good, scratch]\n",
              "pill          [color, combined, contamination, crack, faulty...\n",
              "screw         [good, manipulated_front, scratch_head, scratc...\n",
              "tile          [crack, glue_strip, good, gray_stroke, oil, ro...\n",
              "toothbrush                                    [defective, good]\n",
              "transistor    [bent_lead, cut_lead, damaged_case, good, misp...\n",
              "wood             [color, combined, good, hole, liquid, scratch]\n",
              "zipper        [broken_teeth, combined, fabric_border, fabric...\n",
              "Name: state, dtype: object"
            ]
          },
          "metadata": {},
          "execution_count": 128
        }
      ]
    },
    {
      "cell_type": "markdown",
      "source": [
        "### **bottle**"
      ],
      "metadata": {
        "id": "vryJOXTaL21Q"
      }
    },
    {
      "cell_type": "code",
      "source": [
        "!mkdir ./states/bottle/broken_large\n",
        "!mkdir ./states/bottle/broken_small\n",
        "!mkdir ./states/bottle/contamination\n",
        "!mkdir ./states/bottle/good"
      ],
      "metadata": {
        "id": "0pSE-gm-DEgm"
      },
      "execution_count": null,
      "outputs": []
    },
    {
      "cell_type": "code",
      "source": [
        "bottle_brokenLarge = State.loc[(State['class']=='bottle') & (State['state']=='broken_large'), ['file_name']]['file_name'].values\n",
        "bottle_brokenSmall = State.loc[(State['class']=='bottle') & (State['state']=='broken_small'), ['file_name']]['file_name'].values\n",
        "bottle_contamination = State.loc[(State['class']=='bottle') & (State['state']=='contamination'), ['file_name']]['file_name'].values\n",
        "bottle_good = State.loc[(State['class']=='bottle') & (State['state']=='good'), ['file_name']]['file_name'].values"
      ],
      "metadata": {
        "id": "Gk87bo_ZDEG2"
      },
      "execution_count": 169,
      "outputs": []
    },
    {
      "cell_type": "code",
      "source": [
        "for i in bottle:\n",
        "  idx=0\n",
        "  for j in [bottle_brokenLarge, bottle_brokenSmall, bottle_contamination, bottle_good]:\n",
        "    if i<j: continue\n",
        "    if i in j:\n",
        "      # print(i)\n",
        "      shutil.move('./states/bottle/' + i, './states/bottle/' + grouped[0][idx])\n",
        "    idx+=1"
      ],
      "metadata": {
        "id": "7G_u1pDwHOHC"
      },
      "execution_count": null,
      "outputs": []
    },
    {
      "cell_type": "markdown",
      "source": [
        "###**cable**"
      ],
      "metadata": {
        "id": "k11J2jCWMSFB"
      }
    },
    {
      "cell_type": "code",
      "source": [
        "!mkdir ./states/cable/bent_wire\n",
        "!mkdir ./states/cable/cable_swap\n",
        "!mkdir ./states/cable/combined\n",
        "!mkdir ./states/cable/cut_inner_insulation\n",
        "!mkdir ./states/cable/cut_outer_insulation\n",
        "!mkdir ./states/cable/good\n",
        "!mkdir ./states/cable/missing_cable\n",
        "!mkdir ./states/cable/missing_wire\n",
        "!mkdir ./states/cable/poke_insulation"
      ],
      "metadata": {
        "id": "WcTPpxdxMeTr"
      },
      "execution_count": null,
      "outputs": []
    },
    {
      "cell_type": "code",
      "source": [
        "cable_bentWire = State.loc[(State['class']=='cable') & (State['state']=='bent_wire'), ['file_name']]['file_name'].values\n",
        "cable_cableSwap = State.loc[(State['class']=='cable') & (State['state']=='cable_swap'), ['file_name']]['file_name'].values\n",
        "cable_combined = State.loc[(State['class']=='cable') & (State['state']=='combined'), ['file_name']]['file_name'].values\n",
        "cable_cutInnerInsulation = State.loc[(State['class']=='cable') & (State['state']=='cut_inner_insulation'), ['file_name']]['file_name'].values\n",
        "cable_cutOuterInsulation = State.loc[(State['class']=='cable') & (State['state']=='cut_outer_insulation'), ['file_name']]['file_name'].values\n",
        "cable_good = State.loc[(State['class']=='cable') & (State['state']=='good'), ['file_name']]['file_name'].values\n",
        "cable_missingCable = State.loc[(State['class']=='cable') & (State['state']=='missing_cable'), ['file_name']]['file_name'].values\n",
        "cable_missingWire = State.loc[(State['class']=='cable') & (State['state']=='missing_wire'), ['file_name']]['file_name'].values\n",
        "cable_pokeInsulation = State.loc[(State['class']=='cable') & (State['state']=='poke_insulation'), ['file_name']]['file_name'].values"
      ],
      "metadata": {
        "id": "q4IgF6doLatn"
      },
      "execution_count": 138,
      "outputs": []
    },
    {
      "cell_type": "code",
      "source": [
        "for i in cable:\n",
        "  idx=0\n",
        "  for j in [cable_bentWire, cable_cableSwap, cable_combined,\n",
        "            cable_cutInnerInsulation, cable_cutOuterInsulation, cable_good,\n",
        "            cable_missingCable, cable_missingWire, cable_pokeInsulation]:\n",
        "    if i<j: continue\n",
        "    if i in j:\n",
        "      # print(i)\n",
        "      shutil.move('./states/cable/' + i, './states/cable/' + grouped[1][idx])\n",
        "    idx+=1"
      ],
      "metadata": {
        "id": "SEVNzsfPKZcR"
      },
      "execution_count": null,
      "outputs": []
    },
    {
      "cell_type": "markdown",
      "source": [
        "###**capsule**"
      ],
      "metadata": {
        "id": "QKB4ynN4jRD7"
      }
    },
    {
      "cell_type": "code",
      "source": [
        "!mkdir ./states/capsule/crack\n",
        "!mkdir ./states/capsule/faulty_imprint\n",
        "!mkdir ./states/capsule/good\n",
        "!mkdir ./states/capsule/poke\n",
        "!mkdir ./states/capsule/scratch\n",
        "!mkdir ./states/capsule/squeeze"
      ],
      "metadata": {
        "id": "3KKZq1ySQjb1"
      },
      "execution_count": null,
      "outputs": []
    },
    {
      "cell_type": "code",
      "source": [
        "capsule_crack = State.loc[(State['class']=='capsule') & (State['state']=='crack'), ['file_name']]['file_name'].values\n",
        "capsule_faultyImprint = State.loc[(State['class']=='capsule') & (State['state']=='faulty_imprint'), ['file_name']]['file_name'].values\n",
        "capsule_good = State.loc[(State['class']=='capsule') & (State['state']=='good'), ['file_name']]['file_name'].values\n",
        "capsule_poke = State.loc[(State['class']=='capsule') & (State['state']=='poke'), ['file_name']]['file_name'].values\n",
        "capsule_scratch = State.loc[(State['class']=='capsule') & (State['state']=='scratch'), ['file_name']]['file_name'].values\n",
        "capsule_squeeze = State.loc[(State['class']=='capsule') & (State['state']=='squeeze'), ['file_name']]['file_name'].values"
      ],
      "metadata": {
        "id": "qnXkgWQtj_jE"
      },
      "execution_count": 140,
      "outputs": []
    },
    {
      "cell_type": "code",
      "source": [
        "for i in capsule:\n",
        "  idx=0\n",
        "  for j in [capsule_crack, capsule_faultyImprint, capsule_good, capsule_poke, capsule_scratch, capsule_squeeze]:\n",
        "    if i<j: continue\n",
        "    if i in j:\n",
        "      # print(i)\n",
        "      shutil.move('./states/capsule/' + i, './states/capsule/' + grouped[2][idx])\n",
        "    idx+=1"
      ],
      "metadata": {
        "id": "lVN0wdB6Lryb"
      },
      "execution_count": null,
      "outputs": []
    },
    {
      "cell_type": "markdown",
      "source": [
        "###**carpet**"
      ],
      "metadata": {
        "id": "SI414vGuP3vO"
      }
    },
    {
      "cell_type": "code",
      "source": [
        "!mkdir ./states/carpet/crack\n",
        "!mkdir ./states/carpet/faulty_imprint\n",
        "!mkdir ./states/carpet/good\n",
        "!mkdir ./states/carpet/poke\n",
        "!mkdir ./states/carpet/scratch\n",
        "!mkdir ./states/carpet/squeeze"
      ],
      "metadata": {
        "id": "AEiQAxZ-P3vr"
      },
      "execution_count": null,
      "outputs": []
    },
    {
      "cell_type": "code",
      "source": [
        "carpet_color = State.loc[(State['class']=='capsule') & (State['state']=='color'), ['file_name']]['file_name'].values\n",
        "carpet_cut = State.loc[(State['class']=='capsule') & (State['state']=='cut'), ['file_name']]['file_name'].values\n",
        "carpet_good = State.loc[(State['class']=='capsule') & (State['state']=='good'), ['file_name']]['file_name'].values\n",
        "carpet_hole = State.loc[(State['class']=='capsule') & (State['state']=='hole'), ['file_name']]['file_name'].values\n",
        "carpet_metalContamination = State.loc[(State['class']=='capsule') & (State['state']=='metal_contamination'), ['file_name']]['file_name'].values\n",
        "carpet_thread = State.loc[(State['class']=='capsule') & (State['state']=='thread'), ['file_name']]['file_name'].values"
      ],
      "metadata": {
        "id": "vrcbGWRPP3vr"
      },
      "execution_count": 148,
      "outputs": []
    },
    {
      "cell_type": "code",
      "source": [
        "for i in carpet:\n",
        "  idx=0\n",
        "  for j in [carpet_color, carpet_cut, carpet_good, carpet_hole, carpet_metalContamination, carpet_thread]:\n",
        "    if i<j: continue\n",
        "    if i in j:\n",
        "      # print(i)\n",
        "      shutil.move('./states/carpet/' + i, './states/carpet/' + grouped[3][idx])\n",
        "    idx+=1"
      ],
      "metadata": {
        "id": "oW6F9oZ9P3vr"
      },
      "execution_count": null,
      "outputs": []
    },
    {
      "cell_type": "markdown",
      "source": [
        "###**grid**"
      ],
      "metadata": {
        "id": "BvJ9k6MtDUwN"
      }
    },
    {
      "cell_type": "code",
      "source": [
        "!mkdir ./states/grid/bent\n",
        "!mkdir ./states/grid/broken\n",
        "!mkdir ./states/grid/glue\n",
        "!mkdir ./states/grid/good\n",
        "!mkdir ./states/grid/metal_contamination\n",
        "!mkdir ./states/grid/thread"
      ],
      "metadata": {
        "id": "wDoTpm8qDk7d"
      },
      "execution_count": null,
      "outputs": []
    },
    {
      "cell_type": "code",
      "source": [
        "grid_bent = State.loc[(State['class']=='grid') & (State['state']=='bent'), ['file_name']]['file_name'].values\n",
        "grid_broken = State.loc[(State['class']=='grid') & (State['state']=='broken'), ['file_name']]['file_name'].values\n",
        "grid_glue = State.loc[(State['class']=='grid') & (State['state']=='glue'), ['file_name']]['file_name'].values\n",
        "grid_good = State.loc[(State['class']=='grid') & (State['state']=='good'), ['file_name']]['file_name'].values\n",
        "grid_metalContamination = State.loc[(State['class']=='grid') & (State['state']=='metal_contamination'), ['file_name']]['file_name'].values\n",
        "grid_thread = State.loc[(State['class']=='grid') & (State['state']=='thread'), ['file_name']]['file_name'].values"
      ],
      "metadata": {
        "id": "lONjXGdFB9Fr"
      },
      "execution_count": 150,
      "outputs": []
    },
    {
      "cell_type": "code",
      "source": [
        "for i in grid:\n",
        "  idx=0\n",
        "  for j in [grid_bent, grid_broken, grid_glue, grid_good, grid_metalContamination, grid_thread]:\n",
        "    if i<j: continue\n",
        "    if i in j:\n",
        "      # print(i)\n",
        "      shutil.move('./states/grid/' + i, './states/grid/' + grouped[4][idx])\n",
        "    idx+=1"
      ],
      "metadata": {
        "id": "5fpDatDvFshY"
      },
      "execution_count": null,
      "outputs": []
    },
    {
      "cell_type": "markdown",
      "source": [
        "###**hazelnut**"
      ],
      "metadata": {
        "id": "QC1mkWNUHcAZ"
      }
    },
    {
      "cell_type": "code",
      "source": [
        "!mkdir ./states/hazelnut/crack\n",
        "!mkdir ./states/hazelnut/cut\n",
        "!mkdir ./states/hazelnut/good\n",
        "!mkdir ./states/hazelnut/hole\n",
        "!mkdir ./states/hazelnut/print"
      ],
      "metadata": {
        "id": "IysBQYknHfsK"
      },
      "execution_count": null,
      "outputs": []
    },
    {
      "cell_type": "code",
      "source": [
        "hazelnut_crack = State.loc[(State['class']=='hazelnut') & (State['state']=='crack'), ['file_name']]['file_name'].values\n",
        "hazelnut_cut = State.loc[(State['class']=='hazelnut') & (State['state']=='cut'), ['file_name']]['file_name'].values\n",
        "hazelnut_good = State.loc[(State['class']=='hazelnut') & (State['state']=='good'), ['file_name']]['file_name'].values\n",
        "hazelnut_hole = State.loc[(State['class']=='hazelnut') & (State['state']=='hole'), ['file_name']]['file_name'].values\n",
        "hazelnut_print = State.loc[(State['class']=='hazelnut') & (State['state']=='print'), ['file_name']]['file_name'].values"
      ],
      "metadata": {
        "id": "0bV0BVB8H3MK"
      },
      "execution_count": 151,
      "outputs": []
    },
    {
      "cell_type": "code",
      "source": [
        "for i in hazelnut:\n",
        "  idx=0\n",
        "  for j in [hazelnut_crack, hazelnut_cut, hazelnut_good, hazelnut_hole, hazelnut_print]:\n",
        "    if i<j: continue\n",
        "    if i in j:\n",
        "      # print(i)\n",
        "      shutil.move('./states/hazelnut/' + i, './states/hazelnut/' + grouped[5][idx])\n",
        "    idx+=1"
      ],
      "metadata": {
        "id": "gCABfyB6RHpw"
      },
      "execution_count": null,
      "outputs": []
    },
    {
      "cell_type": "markdown",
      "source": [
        "###**leather**"
      ],
      "metadata": {
        "id": "t_VCpHEedhIM"
      }
    },
    {
      "cell_type": "code",
      "source": [
        "!mkdir ./states/leather/color\n",
        "!mkdir ./states/leather/cut\n",
        "!mkdir ./states/leather/fold\n",
        "!mkdir ./states/leather/glue\n",
        "!mkdir ./states/leather/good\n",
        "!mkdir ./states/leather/poke"
      ],
      "metadata": {
        "id": "TX3LGRwbdhIa"
      },
      "execution_count": null,
      "outputs": []
    },
    {
      "cell_type": "code",
      "source": [
        "leather_color = State.loc[(State['class']=='leather') & (State['state']=='color'), ['file_name']]['file_name'].values\n",
        "leather_cut = State.loc[(State['class']=='leather') & (State['state']=='cut'), ['file_name']]['file_name'].values\n",
        "leather_fold = State.loc[(State['class']=='leather') & (State['state']=='fold'), ['file_name']]['file_name'].values\n",
        "leather_glue = State.loc[(State['class']=='leather') & (State['state']=='glue'), ['file_name']]['file_name'].values\n",
        "leather_good = State.loc[(State['class']=='leather') & (State['state']=='good'), ['file_name']]['file_name'].values\n",
        "leather_poke = State.loc[(State['class']=='leather') & (State['state']=='poke'), ['file_name']]['file_name'].values"
      ],
      "metadata": {
        "id": "lGLrdjDedhIa"
      },
      "execution_count": 154,
      "outputs": []
    },
    {
      "cell_type": "code",
      "source": [
        "for i in leather:\n",
        "  idx=0\n",
        "  for j in [leather_color, leather_cut, leather_fold, leather_glue, leather_good, leather_poke]:\n",
        "    if i<j: continue\n",
        "    if i in j:\n",
        "      # print(i)\n",
        "      shutil.move('./states/leather/' + i, './states/leather/' + grouped[6][idx])\n",
        "    idx+=1"
      ],
      "metadata": {
        "id": "Qs2FtJRwRnD-"
      },
      "execution_count": null,
      "outputs": []
    },
    {
      "cell_type": "markdown",
      "source": [
        "###**metal_nut**"
      ],
      "metadata": {
        "id": "kmACRfSo_gQH"
      }
    },
    {
      "cell_type": "code",
      "source": [
        "!mkdir ./states/metal_nut/bent\n",
        "!mkdir ./states/metal_nut/color\n",
        "!mkdir ./states/metal_nut/flip\n",
        "!mkdir ./states/metal_nut/good\n",
        "!mkdir ./states/metal_nut/scratch"
      ],
      "metadata": {
        "id": "xI3LCONM_gQp"
      },
      "execution_count": null,
      "outputs": []
    },
    {
      "cell_type": "code",
      "source": [
        "metalNut_bent = State.loc[(State['class']=='metal_nut') & (State['state']=='bent'), ['file_name']]['file_name'].values\n",
        "metalNut_color = State.loc[(State['class']=='metal_nut') & (State['state']=='color'), ['file_name']]['file_name'].values\n",
        "metalNut_flip = State.loc[(State['class']=='metal_nut') & (State['state']=='flip'), ['file_name']]['file_name'].values\n",
        "metalNut_good = State.loc[(State['class']=='metal_nut') & (State['state']=='good'), ['file_name']]['file_name'].values\n",
        "metalNut_scratch = State.loc[(State['class']=='metal_nut') & (State['state']=='scratch'), ['file_name']]['file_name'].values"
      ],
      "metadata": {
        "id": "v3Aivef7_gQp"
      },
      "execution_count": 156,
      "outputs": []
    },
    {
      "cell_type": "code",
      "source": [
        "for i in metalNut:\n",
        "  idx=0\n",
        "  for j in [metalNut_bent, metalNut_color, metalNut_flip, metalNut_good, metalNut_scratch]:\n",
        "    if i<j: continue\n",
        "    if i in j:\n",
        "      # print(i)\n",
        "      shutil.move('./states/metal_nut/' + i, './states/metal_nut/' + grouped[7][idx])\n",
        "    idx+=1"
      ],
      "metadata": {
        "id": "sh8-aKlCSHkI"
      },
      "execution_count": null,
      "outputs": []
    },
    {
      "cell_type": "markdown",
      "source": [
        "###**pill**"
      ],
      "metadata": {
        "id": "yE0cL8QLCmUl"
      }
    },
    {
      "cell_type": "code",
      "source": [
        "!mkdir ./states/pill/color\n",
        "!mkdir ./states/pill/combined\n",
        "!mkdir ./states/pill/contamination\n",
        "!mkdir ./states/pill/crack\n",
        "!mkdir ./states/pill/faulty_imprint\n",
        "!mkdir ./states/pill/good\n",
        "!mkdir ./states/pill/pill_type\n",
        "!mkdir ./states/pill/scratch"
      ],
      "metadata": {
        "id": "m1pNKNS0CmUy"
      },
      "execution_count": null,
      "outputs": []
    },
    {
      "cell_type": "code",
      "source": [
        "pill_color = State.loc[(State['class']=='pill') & (State['state']=='color'), ['file_name']]['file_name'].values\n",
        "pill_combined = State.loc[(State['class']=='pill') & (State['state']=='combined'), ['file_name']]['file_name'].values\n",
        "pill_contamination = State.loc[(State['class']=='pill') & (State['state']=='contamination'), ['file_name']]['file_name'].values\n",
        "pill_crack = State.loc[(State['class']=='pill') & (State['state']=='crack'), ['file_name']]['file_name'].values\n",
        "pill_faultyImprint = State.loc[(State['class']=='pill') & (State['state']=='faulty_imprint'), ['file_name']]['file_name'].values\n",
        "pill_good = State.loc[(State['class']=='pill') & (State['state']=='good'), ['file_name']]['file_name'].values\n",
        "pill_pillType = State.loc[(State['class']=='pill') & (State['state']=='pill_type'), ['file_name']]['file_name'].values\n",
        "pill_scratch = State.loc[(State['class']=='pill') & (State['state']=='scratch'), ['file_name']]['file_name'].values"
      ],
      "metadata": {
        "id": "iDA1EgpJCmUy"
      },
      "execution_count": 177,
      "outputs": []
    },
    {
      "cell_type": "code",
      "source": [
        "for i in pill:\n",
        "  idx=0\n",
        "  for j in [pill_color, pill_combined, pill_contamination, pill_crack,\n",
        "            pill_faultyImprint, pill_good, pill_pillType, pill_scratch]:\n",
        "    if i<j: continue\n",
        "    if i in j:\n",
        "      # print(i)\n",
        "      shutil.move('./states/pill/' + i, './states/pill/' + grouped[8][idx])\n",
        "    idx+=1"
      ],
      "metadata": {
        "id": "jfi6nl1PCmU0"
      },
      "execution_count": null,
      "outputs": []
    },
    {
      "cell_type": "markdown",
      "source": [
        "###**screw**"
      ],
      "metadata": {
        "id": "J2qR7CKjKTyP"
      }
    },
    {
      "cell_type": "code",
      "source": [
        "!mkdir ./states/screw/good\n",
        "!mkdir ./states/screw/manipulated_front\n",
        "!mkdir ./states/screw/scratch_head\n",
        "!mkdir ./states/screw/scratch_neck\n",
        "!mkdir ./states/screw/thread_side\n",
        "!mkdir ./states/screw/thread_top"
      ],
      "metadata": {
        "id": "XZzvEXr7KTyQ"
      },
      "execution_count": null,
      "outputs": []
    },
    {
      "cell_type": "code",
      "source": [
        "screw_good = State.loc[(State['class']=='screw') & (State['state']=='good'), ['file_name']]['file_name'].values\n",
        "screw_manipulatedFront = State.loc[(State['class']=='screw') & (State['state']=='manipulated_front'), ['file_name']]['file_name'].values\n",
        "screw_scratchHead = State.loc[(State['class']=='screw') & (State['state']=='scratch_head'), ['file_name']]['file_name'].values\n",
        "screw_scratchNeck = State.loc[(State['class']=='screw') & (State['state']=='scratch_neck'), ['file_name']]['file_name'].values\n",
        "screw_threadSide = State.loc[(State['class']=='screw') & (State['state']=='thread_side'), ['file_name']]['file_name'].values\n",
        "screw_threadTop = State.loc[(State['class']=='screw') & (State['state']=='thread_top'), ['file_name']]['file_name'].values"
      ],
      "metadata": {
        "id": "ZLIVF17kKTyQ"
      },
      "execution_count": 178,
      "outputs": []
    },
    {
      "cell_type": "code",
      "source": [
        "for i in screw:\n",
        "  idx=0\n",
        "  for j in [screw_good, screw_manipulatedFront, screw_scratchHead, screw_scratchNeck, screw_threadSide, screw_threadTop]:\n",
        "    if i<j: continue\n",
        "    if i in j:\n",
        "      # print(i)\n",
        "      shutil.move('./states/screw/' + i, './states/screw/' + grouped[9][idx])\n",
        "    idx+=1"
      ],
      "metadata": {
        "id": "lFFILW2WjF1h"
      },
      "execution_count": null,
      "outputs": []
    },
    {
      "cell_type": "markdown",
      "source": [
        "###**tile**"
      ],
      "metadata": {
        "id": "QlBTL3MJa-Z0"
      }
    },
    {
      "cell_type": "code",
      "source": [
        "!mkdir ./states/tile/crack\n",
        "!mkdir ./states/tile/glue_strip\n",
        "!mkdir ./states/tile/good\n",
        "!mkdir ./states/tile/gray_stroke\n",
        "!mkdir ./states/tile/oil\n",
        "!mkdir ./states/tile/rough"
      ],
      "metadata": {
        "id": "XqfEz74ea-Z7"
      },
      "execution_count": null,
      "outputs": []
    },
    {
      "cell_type": "code",
      "source": [
        "tile_crack = State.loc[(State['class']=='tile') & (State['state']=='crack'), ['file_name']]['file_name'].values\n",
        "tile_glueStrip = State.loc[(State['class']=='tile') & (State['state']=='glue_strip'), ['file_name']]['file_name'].values\n",
        "tile_good = State.loc[(State['class']=='tile') & (State['state']=='good'), ['file_name']]['file_name'].values\n",
        "tile_grayStroke = State.loc[(State['class']=='tile') & (State['state']=='gray_stroke'), ['file_name']]['file_name'].values\n",
        "tile_oil = State.loc[(State['class']=='tile') & (State['state']=='oil'), ['file_name']]['file_name'].values\n",
        "tile_rough = State.loc[(State['class']=='tile') & (State['state']=='rough'), ['file_name']]['file_name'].values"
      ],
      "metadata": {
        "id": "FDLz8-F2a-Z8"
      },
      "execution_count": 198,
      "outputs": []
    },
    {
      "cell_type": "code",
      "source": [
        "for i in tile:\n",
        "  idx=0\n",
        "  for j in [tile_crack, tile_glueStrip, tile_good, tile_grayStroke, tile_oil, tile_rough]:\n",
        "    if i<j: continue\n",
        "    if i in j:\n",
        "      # print(i)\n",
        "      shutil.move('./states/tile/' + i, './states/tile/' + grouped[10][idx])\n",
        "    idx+=1"
      ],
      "metadata": {
        "id": "IVKhFor6a-Z9"
      },
      "execution_count": null,
      "outputs": []
    },
    {
      "cell_type": "markdown",
      "source": [
        "###**toothbrush**"
      ],
      "metadata": {
        "id": "iGaxvcpNdKLS"
      }
    },
    {
      "cell_type": "code",
      "source": [
        "!mkdir ./states/toothbrush/defective\n",
        "!mkdir ./states/toothbrush/good"
      ],
      "metadata": {
        "id": "Mi1XWU3qdKLb"
      },
      "execution_count": 55,
      "outputs": []
    },
    {
      "cell_type": "code",
      "source": [
        "toothbrush_defective = State.loc[(State['class']=='toothbrush') & (State['state']=='defective'), ['file_name']]['file_name'].values\n",
        "toothbrush_good = State.loc[(State['class']=='toothbrush') & (State['state']=='good'), ['file_name']]['file_name'].values"
      ],
      "metadata": {
        "id": "z3WkvRgXdKLb"
      },
      "execution_count": 200,
      "outputs": []
    },
    {
      "cell_type": "code",
      "source": [
        "for i in toothbrush:\n",
        "  idx=0\n",
        "  for j in [toothbrush_defective, toothbrush_good]:\n",
        "    if i<j: continue\n",
        "    if i in j:\n",
        "      # print(i)\n",
        "      shutil.move('./states/toothbrush/' + i, './states/toothbrush/' + grouped[11][idx])\n",
        "    idx+=1"
      ],
      "metadata": {
        "id": "BNQ6bQw5dKLd"
      },
      "execution_count": null,
      "outputs": []
    },
    {
      "cell_type": "markdown",
      "source": [
        "###**transistor**"
      ],
      "metadata": {
        "id": "1gB02PKa0zOb"
      }
    },
    {
      "cell_type": "code",
      "source": [
        "!mkdir ./states/transistor/bent_lead\n",
        "!mkdir ./states/transistor/cut_lead\n",
        "!mkdir ./states/transistor/damaged_case\n",
        "!mkdir ./states/transistor/good\n",
        "!mkdir ./states/transistor/misplaced"
      ],
      "metadata": {
        "id": "yS-AyD580zOh"
      },
      "execution_count": 65,
      "outputs": []
    },
    {
      "cell_type": "code",
      "source": [
        "transistor_bentLead = State.loc[(State['class']=='transistor') & (State['state']=='bent_lead'), ['file_name']]['file_name'].values\n",
        "transistor_cutLead = State.loc[(State['class']=='transistor') & (State['state']=='cut_lead'), ['file_name']]['file_name'].values\n",
        "transistor_damagedCase = State.loc[(State['class']=='transistor') & (State['state']=='damaged_case'), ['file_name']]['file_name'].values\n",
        "transistor_good = State.loc[(State['class']=='transistor') & (State['state']=='good'), ['file_name']]['file_name'].values\n",
        "transistor_misplaced = State.loc[(State['class']=='transistor') & (State['state']=='misplaced'), ['file_name']]['file_name'].values"
      ],
      "metadata": {
        "id": "cYcc1aUP0zOh"
      },
      "execution_count": 202,
      "outputs": []
    },
    {
      "cell_type": "code",
      "source": [
        "for i in transistor:\n",
        "  idx=0\n",
        "  for j in [transistor_bentLead, transistor_cutLead, transistor_damagedCase, transistor_good, transistor_misplaced]:\n",
        "    if i<j: continue\n",
        "    if i in j:\n",
        "      # print(i)\n",
        "      shutil.move('./states/transistor/' + i, './states/transistor/' + grouped[12][idx])\n",
        "    idx+=1"
      ],
      "metadata": {
        "id": "Zi8Aai1I1YHE"
      },
      "execution_count": null,
      "outputs": []
    },
    {
      "cell_type": "markdown",
      "source": [
        "###**wood**"
      ],
      "metadata": {
        "id": "s9gtxHc-2-6s"
      }
    },
    {
      "cell_type": "code",
      "source": [
        "!mkdir ./states/wood/color\n",
        "!mkdir ./states/wood/combined\n",
        "!mkdir ./states/wood/good\n",
        "!mkdir ./states/wood/hole\n",
        "!mkdir ./states/wood/liquid\n",
        "!mkdir ./states/wood/scratch"
      ],
      "metadata": {
        "id": "BZeFoxJR2-61"
      },
      "execution_count": 72,
      "outputs": []
    },
    {
      "cell_type": "code",
      "source": [
        "wood_color = State.loc[(State['class']=='wood') & (State['state']=='color'), ['file_name']]['file_name'].values\n",
        "wood_combined = State.loc[(State['class']=='wood') & (State['state']=='combined'), ['file_name']]['file_name'].values\n",
        "wood_good = State.loc[(State['class']=='wood') & (State['state']=='good'), ['file_name']]['file_name'].values\n",
        "wood_hole = State.loc[(State['class']=='wood') & (State['state']=='hole'), ['file_name']]['file_name'].values\n",
        "wood_liquid = State.loc[(State['class']=='wood') & (State['state']=='liquid'), ['file_name']]['file_name'].values\n",
        "wood_scratch = State.loc[(State['class']=='wood') & (State['state']=='scratch'), ['file_name']]['file_name'].values"
      ],
      "metadata": {
        "id": "lN2bdj692-61"
      },
      "execution_count": 204,
      "outputs": []
    },
    {
      "cell_type": "code",
      "source": [
        "for i in wood:\n",
        "  idx=0\n",
        "  for j in [wood_color, wood_combined, wood_good, wood_hole, wood_liquid, wood_scratch]:\n",
        "    if i<j: continue\n",
        "    if i in j:\n",
        "      # print(i)\n",
        "      shutil.move('./states/wood/' + i, './states/wood/' + grouped[13][idx])\n",
        "    idx+=1"
      ],
      "metadata": {
        "id": "4Bv-Pi3m2-61"
      },
      "execution_count": null,
      "outputs": []
    },
    {
      "cell_type": "markdown",
      "source": [
        "###**zipper**"
      ],
      "metadata": {
        "id": "uviF5iD32_vy"
      }
    },
    {
      "cell_type": "code",
      "source": [
        "!mkdir ./states/zipper/broken_teeth\n",
        "!mkdir ./states/zipper/combined\n",
        "!mkdir ./states/zipper/fabric_border\n",
        "!mkdir ./states/zipper/fabric_interior\n",
        "!mkdir ./states/zipper/good\n",
        "!mkdir ./states/zipper/rough\n",
        "!mkdir ./states/zipper/split_teeth\n",
        "!mkdir ./states/zipper/squeezed_teeth"
      ],
      "metadata": {
        "id": "EnKA0yVQ2_vz"
      },
      "execution_count": 81,
      "outputs": []
    },
    {
      "cell_type": "code",
      "source": [
        "zipper_brokenTeeth = State.loc[(State['class']=='zipper') & (State['state']=='broken_teeth'), ['file_name']]['file_name'].values\n",
        "zipper_combined = State.loc[(State['class']=='zipper') & (State['state']=='combined'), ['file_name']]['file_name'].values\n",
        "zipper_fabricBorder = State.loc[(State['class']=='zipper') & (State['state']=='fabric_border'), ['file_name']]['file_name'].values\n",
        "zipper_fabricInterior = State.loc[(State['class']=='zipper') & (State['state']=='fabric_interior'), ['file_name']]['file_name'].values\n",
        "zipper_good = State.loc[(State['class']=='zipper') & (State['state']=='good'), ['file_name']]['file_name'].values\n",
        "zipper_rough = State.loc[(State['class']=='zipper') & (State['state']=='rough'), ['file_name']]['file_name'].values\n",
        "zipper_splitTeeth = State.loc[(State['class']=='zipper') & (State['state']=='split_teeth'), ['file_name']]['file_name'].values\n",
        "zipper_squeezedTeeth = State.loc[(State['class']=='zipper') & (State['state']=='squeezed_teeth'), ['file_name']]['file_name'].values"
      ],
      "metadata": {
        "id": "82rg_Ohv2_vz"
      },
      "execution_count": 206,
      "outputs": []
    },
    {
      "cell_type": "code",
      "source": [
        "for i in zipper:\n",
        "  idx=0\n",
        "  for j in [zipper_brokenTeeth, zipper_combined, zipper_fabricBorder, zipper_fabricInterior,\n",
        "            zipper_good, zipper_rough, zipper_splitTeeth, zipper_squeezedTeeth]:\n",
        "    if i<j: continue\n",
        "    if i in j:\n",
        "      # print(i)\n",
        "      shutil.move('./states/zipper/' + i, './states/zipper/' + grouped[14][idx])\n",
        "    idx+=1"
      ],
      "metadata": {
        "id": "jw8g97Ay2_vz"
      },
      "execution_count": null,
      "outputs": []
    }
  ]
}